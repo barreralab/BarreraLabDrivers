{
 "cells": [
  {
   "cell_type": "code",
   "execution_count": 1,
   "metadata": {},
   "outputs": [],
   "source": [
    "import time\n",
    "import numpy as np\n",
    "from barreralabdrivers.drivers import DCDAC5764, Keithley6500\n",
    "\n",
    "import random "
   ]
  },
  {
   "cell_type": "code",
   "execution_count": 2,
   "metadata": {},
   "outputs": [
    {
     "name": "stdout",
     "output_type": "stream",
     "text": [
      "Connected to: BARRERA DCDAC01 (serial:AD5764, firmware:2.00) in 3.08s\n"
     ]
    }
   ],
   "source": [
    "dcdac = DCDAC5764(\"dcdac\", \"ASRL4::INSTR\")"
   ]
  },
  {
   "cell_type": "code",
   "execution_count": 3,
   "metadata": {},
   "outputs": [
    {
     "data": {
      "text/plain": [
       "8.843349"
      ]
     },
     "execution_count": 3,
     "metadata": {},
     "output_type": "execute_result"
    }
   ],
   "source": [
    "dcdac.channel1.voltage(8.843335423423223254)\n",
    "dcdac.channels[0].voltage()"
   ]
  },
  {
   "cell_type": "code",
   "execution_count": null,
   "metadata": {},
   "outputs": [],
   "source": []
  },
  {
   "cell_type": "code",
   "execution_count": 4,
   "metadata": {},
   "outputs": [
    {
     "data": {
      "text/plain": [
       "0.343124156926367"
      ]
     },
     "execution_count": 4,
     "metadata": {},
     "output_type": "execute_result"
    }
   ],
   "source": [
    "random.random()"
   ]
  },
  {
   "cell_type": "code",
   "execution_count": 7,
   "metadata": {},
   "outputs": [
    {
     "data": {
      "text/plain": [
       "0.0"
      ]
     },
     "execution_count": 7,
     "metadata": {},
     "output_type": "execute_result"
    }
   ],
   "source": [
    "chan = dcdac.channel8\n",
    "start = -10\n",
    "points = np.linspace(start, 0, 100)\n",
    "for point in points:\n",
    "    chan.voltage(point)\n",
    "\n",
    "chan.voltage()\n"
   ]
  },
  {
   "cell_type": "code",
   "execution_count": 6,
   "metadata": {},
   "outputs": [
    {
     "name": "stdout",
     "output_type": "stream",
     "text": [
      "dcdac:\n",
      "\tparameter value\n",
      "--------------------------------------------------------------------------------\n",
      "IDN     :\t{'vendor': 'BARRERA', 'model': 'DCDAC01', 'serial': 'AD5764', 'firm...\n",
      "timeout :\t5 (s)\n",
      "dcdac_channel1:\n",
      "\tparameter value\n",
      "--------------------------------------------------------------------------------\n",
      "offset  :\tNone \n",
      "step    :\tNone \n",
      "voltage :\t6.3176 (V)\n",
      "dcdac_channel2:\n",
      "\tparameter value\n",
      "--------------------------------------------------------------------------------\n",
      "offset  :\tNone \n",
      "step    :\tNone \n",
      "voltage :\tNone (V)\n",
      "dcdac_channel3:\n",
      "\tparameter value\n",
      "--------------------------------------------------------------------------------\n",
      "offset  :\tNone \n",
      "step    :\tNone \n",
      "voltage :\tNone (V)\n",
      "dcdac_channel4:\n",
      "\tparameter value\n",
      "--------------------------------------------------------------------------------\n",
      "offset  :\tNone \n",
      "step    :\tNone \n",
      "voltage :\tNone (V)\n",
      "dcdac_channel5:\n",
      "\tparameter value\n",
      "--------------------------------------------------------------------------------\n",
      "offset  :\tNone \n",
      "step    :\tNone \n",
      "voltage :\tNone (V)\n",
      "dcdac_channel6:\n",
      "\tparameter value\n",
      "--------------------------------------------------------------------------------\n",
      "offset  :\tNone \n",
      "step    :\tNone \n",
      "voltage :\tNone (V)\n",
      "dcdac_channel7:\n",
      "\tparameter value\n",
      "--------------------------------------------------------------------------------\n",
      "offset  :\tNone \n",
      "step    :\tNone \n",
      "voltage :\tNone (V)\n",
      "dcdac_channel8:\n",
      "\tparameter value\n",
      "--------------------------------------------------------------------------------\n",
      "offset  :\tNone \n",
      "step    :\tNone \n",
      "voltage :\tNone (V)\n"
     ]
    }
   ],
   "source": [
    "dcdac.print_readable_snapshot()"
   ]
  },
  {
   "cell_type": "code",
   "execution_count": 7,
   "metadata": {},
   "outputs": [
    {
     "data": {
      "text/plain": [
       "6.317636"
      ]
     },
     "execution_count": 7,
     "metadata": {},
     "output_type": "execute_result"
    }
   ],
   "source": [
    "dcdac.channel1.voltage()"
   ]
  },
  {
   "cell_type": "code",
   "execution_count": null,
   "metadata": {},
   "outputs": [],
   "source": []
  }
 ],
 "metadata": {
  "kernelspec": {
   "display_name": "venv",
   "language": "python",
   "name": "python3"
  },
  "language_info": {
   "codemirror_mode": {
    "name": "ipython",
    "version": 3
   },
   "file_extension": ".py",
   "mimetype": "text/x-python",
   "name": "python",
   "nbconvert_exporter": "python",
   "pygments_lexer": "ipython3",
   "version": "3.12.3"
  }
 },
 "nbformat": 4,
 "nbformat_minor": 2
}
